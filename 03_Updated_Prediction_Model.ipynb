{
 "cells": [
  {
   "cell_type": "markdown",
   "metadata": {},
   "source": [
    "## Data Processing"
   ]
  },
  {
   "cell_type": "code",
   "execution_count": 1,
   "metadata": {},
   "outputs": [
    {
     "name": "stdout",
     "output_type": "stream",
     "text": [
      "# Failure Instances --  DATE    20\n",
      "dtype: int64\n"
     ]
    },
    {
     "data": {
      "text/plain": [
       "[<matplotlib.lines.Line2D at 0x7fa8cec015c0>]"
      ]
     },
     "execution_count": 1,
     "metadata": {},
     "output_type": "execute_result"
    }
   ],
   "source": [
    "import pandas as pd\n",
    "import numpy as np\n",
    "import matplotlib.pyplot as plt\n",
    "\n",
    "from sklearn.metrics import confusion_matrix, precision_recall_curve\n",
    "from sklearn.metrics import recall_score, classification_report, auc, roc_curve\n",
    "from sklearn.metrics import precision_recall_fscore_support, f1_score\n",
    "\n",
    "# Read Data\n",
    "df_model = pd.read_csv('df_model.csv')\n",
    "\n",
    "# Distribution of Failures\n",
    "print(\"# Failure Instances -- \", df_model.loc[df_model['FLG_FAIL']==1, ['DATE']].nunique())\n",
    "plt.plot(range(df_model.shape[0]), df_model['FLG_FAIL']) # There is a period of close failures in the data."
   ]
  },
  {
   "cell_type": "markdown",
   "metadata": {},
   "source": [
    "### Data Processing Steps -\n",
    "\n",
    "1. Function - Shift flag fail by n timestamps (n= # timestamps before failure when prediction should happen)\n",
    "2. Remove records with actual failure - we dont want model to learn from sensor data corresponding to failure"
   ]
  },
  {
   "cell_type": "code",
   "execution_count": 2,
   "metadata": {},
   "outputs": [],
   "source": [
    "df_model.drop(['DATE', 'TIMESTAMP', 'TIME_SLOT_HR', 'TIME_SLOT_MIN'], axis=1, inplace=True)\n",
    "\n",
    "train_indx = range(0, 60000)\n",
    "val_indx = range(60000, 75000)\n",
    "test_indx = range(75000, df_model.shape[0])\n",
    "\n",
    "# Normalize numeric columns\n",
    "num_cols = df_model.columns[df_model.dtypes =='float64']\n",
    "\n",
    "mean = df_model.loc[train_indx, num_cols].mean(axis = 0)\n",
    "sd = df_model.loc[train_indx, num_cols].std(axis = 0)\n",
    "df_model[num_cols] = df_model[num_cols] - mean\n",
    "df_model[num_cols] = df_model[num_cols]/sd\n",
    "\n",
    "\n",
    "# Function to shift y values\n",
    "sign = lambda x: (1, -1)[x < 0]\n",
    "def fn_data_shift(data, shift=-72, ycol='FLG_FAIL', out_col='FLG_FAIL_SHIFTED'):\n",
    "    vec = data[ycol].copy()\n",
    "    \n",
    "    for i in range(abs(shift)):\n",
    "        temp = vec.shift(sign(shift))\n",
    "        temp = temp.fillna(0)\n",
    "        vec = vec + temp\n",
    "    \n",
    "    data[out_col] = vec\n",
    "    data.loc[data[out_col]>0, out_col] = 1\n",
    "    \n",
    "    return data"
   ]
  },
  {
   "cell_type": "code",
   "execution_count": 3,
   "metadata": {},
   "outputs": [
    {
     "data": {
      "text/plain": [
       "(108379, 110)"
      ]
     },
     "execution_count": 3,
     "metadata": {},
     "output_type": "execute_result"
    }
   ],
   "source": [
    "df_model_shifted = fn_data_shift(data=df_model, shift=-144) # Aim to Predict 1 day before failure\n",
    "\n",
    "# Drop data for original failure\n",
    "rwdrop_indx = df_model_shifted[df_model_shifted['FLG_FAIL']==1].index\n",
    "df_model_shifted = df_model_shifted.drop(rwdrop_indx)\n",
    "df_model_shifted.drop('FLG_FAIL', axis=1, inplace=True) # Drop original column\n",
    "\n",
    "df_model_shifted.shape"
   ]
  },
  {
   "cell_type": "code",
   "execution_count": 4,
   "metadata": {},
   "outputs": [
    {
     "name": "stdout",
     "output_type": "stream",
     "text": [
      "(58128, 109) (58128,) (1872, 109) (1872,)\n",
      "(14568, 109) (14568,) (432, 109) (432,)\n",
      "(32947, 109) (32947,) (432, 109) (432,)\n"
     ]
    }
   ],
   "source": [
    "# divide data into train/test/valid\n",
    "\n",
    "train_indx = range(0, 60000)\n",
    "val_indx = range(60000, 75000)\n",
    "test_indx = range(75000, df_model_shifted.shape[0])\n",
    "\n",
    "df_train = df_model_shifted.iloc[train_indx]\n",
    "df_val = df_model_shifted.iloc[val_indx]\n",
    "df_test = df_model_shifted.iloc[test_indx]\n",
    "\n",
    "# Separate 0/1 instances for auto encoder approach\n",
    "df_train_x0 = df_train.loc[df_train['FLG_FAIL_SHIFTED']==0, df_train.columns !='FLG_FAIL_SHIFTED']\n",
    "df_train_y0 = df_train.loc[df_train['FLG_FAIL_SHIFTED']==0, 'FLG_FAIL_SHIFTED']\n",
    "df_train_x1 = df_train.loc[df_train['FLG_FAIL_SHIFTED']==1, df_train.columns !='FLG_FAIL_SHIFTED']\n",
    "df_train_y1 = df_train.loc[df_train['FLG_FAIL_SHIFTED']==1, 'FLG_FAIL_SHIFTED']\n",
    "\n",
    "df_val_x0 = df_val.loc[df_val['FLG_FAIL_SHIFTED']==0, df_val.columns !='FLG_FAIL_SHIFTED']\n",
    "df_val_y0 = df_val.loc[df_val['FLG_FAIL_SHIFTED']==0, 'FLG_FAIL_SHIFTED']\n",
    "df_val_x1 = df_val.loc[df_val['FLG_FAIL_SHIFTED']==1, df_val.columns !='FLG_FAIL_SHIFTED']\n",
    "df_val_y1 = df_val.loc[df_val['FLG_FAIL_SHIFTED']==1, 'FLG_FAIL_SHIFTED']\n",
    "\n",
    "df_test_x0 = df_test.loc[df_test['FLG_FAIL_SHIFTED']==0, df_test.columns !='FLG_FAIL_SHIFTED']\n",
    "df_test_y0 = df_test.loc[df_test['FLG_FAIL_SHIFTED']==0, 'FLG_FAIL_SHIFTED']\n",
    "df_test_x1 = df_test.loc[df_test['FLG_FAIL_SHIFTED']==1, df_test.columns !='FLG_FAIL_SHIFTED']\n",
    "df_test_y1 = df_test.loc[df_test['FLG_FAIL_SHIFTED']==1, 'FLG_FAIL_SHIFTED']\n",
    "\n",
    "print(df_train_x0.shape, df_train_y0.shape, df_train_x1.shape, df_train_y1.shape)\n",
    "print(df_val_x0.shape, df_val_y0.shape, df_val_x1.shape, df_val_y1.shape)\n",
    "print(df_test_x0.shape, df_test_y0.shape, df_test_x1.shape, df_test_y1.shape)"
   ]
  },
  {
   "cell_type": "markdown",
   "metadata": {},
   "source": [
    "## Basic Auto encoder classification\n",
    "\n"
   ]
  },
  {
   "cell_type": "code",
   "execution_count": 5,
   "metadata": {},
   "outputs": [
    {
     "name": "stderr",
     "output_type": "stream",
     "text": [
      "Using TensorFlow backend.\n"
     ]
    },
    {
     "name": "stdout",
     "output_type": "stream",
     "text": [
      "_________________________________________________________________\n",
      "Layer (type)                 Output Shape              Param #   \n",
      "=================================================================\n",
      "input_1 (InputLayer)         (None, 109)               0         \n",
      "_________________________________________________________________\n",
      "dense_1 (Dense)              (None, 32)                3520      \n",
      "_________________________________________________________________\n",
      "dense_2 (Dense)              (None, 16)                528       \n",
      "_________________________________________________________________\n",
      "dense_3 (Dense)              (None, 16)                272       \n",
      "_________________________________________________________________\n",
      "dense_4 (Dense)              (None, 109)               1853      \n",
      "=================================================================\n",
      "Total params: 6,173\n",
      "Trainable params: 6,173\n",
      "Non-trainable params: 0\n",
      "_________________________________________________________________\n"
     ]
    }
   ],
   "source": [
    "from keras.layers import Input, Dense\n",
    "from keras.models import Model\n",
    "from keras import regularizers\n",
    "\n",
    "encoding_dim=32\n",
    "in_dim = df_train_x0.shape[-1]\n",
    "\n",
    "input_layer = Input(shape=(in_dim,))\n",
    "encoder = Dense(encoding_dim, activation='relu', activity_regularizer=regularizers.l1(0.001))(input_layer)\n",
    "encoder = Dense(int(encoding_dim/2), activation='relu')(encoder)\n",
    "decoder = Dense(int(encoding_dim/2), activation='relu')(encoder)\n",
    "decoder = Dense(in_dim, activation='linear')(decoder)\n",
    "\n",
    "autoencoder = Model(inputs=input_layer, outputs=decoder)\n",
    "autoencoder.summary()"
   ]
  },
  {
   "cell_type": "code",
   "execution_count": 6,
   "metadata": {},
   "outputs": [
    {
     "name": "stdout",
     "output_type": "stream",
     "text": [
      "Train on 58128 samples, validate on 14568 samples\n",
      "Epoch 1/30\n",
      "58128/58128 [==============================] - 4s 69us/step - loss: 0.3138 - acc: 5.1610e-05 - val_loss: 1.8425 - val_acc: 0.0000e+00\n",
      "Epoch 2/30\n",
      "58128/58128 [==============================] - 3s 49us/step - loss: 0.2160 - acc: 0.0000e+00 - val_loss: 1.8190 - val_acc: 0.0000e+00\n",
      "Epoch 3/30\n",
      "58128/58128 [==============================] - 3s 48us/step - loss: 0.2152 - acc: 0.0000e+00 - val_loss: 1.7886 - val_acc: 0.0000e+00\n",
      "Epoch 4/30\n",
      "58128/58128 [==============================] - 3s 50us/step - loss: 0.2144 - acc: 0.0000e+00 - val_loss: 1.7258 - val_acc: 0.0000e+00\n",
      "Epoch 5/30\n",
      "58128/58128 [==============================] - 3s 48us/step - loss: 0.2132 - acc: 0.0000e+00 - val_loss: 1.6307 - val_acc: 0.0000e+00\n",
      "Epoch 6/30\n",
      "58128/58128 [==============================] - 3s 50us/step - loss: 0.2114 - acc: 0.0000e+00 - val_loss: 1.4939 - val_acc: 0.0000e+00\n",
      "Epoch 7/30\n",
      "58128/58128 [==============================] - 3s 47us/step - loss: 0.2076 - acc: 3.2686e-04 - val_loss: 1.0745 - val_acc: 6.8644e-05\n",
      "Epoch 8/30\n",
      "58128/58128 [==============================] - 3s 48us/step - loss: 0.2018 - acc: 3.7848e-04 - val_loss: 0.7625 - val_acc: 2.0593e-04\n",
      "Epoch 9/30\n",
      "58128/58128 [==============================] - 3s 48us/step - loss: 0.1792 - acc: 0.0079 - val_loss: 0.5491 - val_acc: 0.0092\n",
      "Epoch 10/30\n",
      "58128/58128 [==============================] - 3s 49us/step - loss: 0.1404 - acc: 0.0195 - val_loss: 0.6493 - val_acc: 0.0074\n",
      "Epoch 11/30\n",
      "58128/58128 [==============================] - 3s 47us/step - loss: 0.1371 - acc: 0.0200 - val_loss: 0.7319 - val_acc: 0.0068\n",
      "Epoch 12/30\n",
      "58128/58128 [==============================] - 3s 48us/step - loss: 0.1371 - acc: 0.0203 - val_loss: 0.4376 - val_acc: 0.0064\n",
      "Epoch 13/30\n",
      "58128/58128 [==============================] - 3s 46us/step - loss: 0.1291 - acc: 0.0216 - val_loss: 0.4882 - val_acc: 0.0094\n",
      "Epoch 14/30\n",
      "58128/58128 [==============================] - 3s 48us/step - loss: 0.1260 - acc: 0.0449 - val_loss: 0.4904 - val_acc: 0.0075\n",
      "Epoch 15/30\n",
      "58128/58128 [==============================] - 3s 47us/step - loss: 0.1238 - acc: 0.0509 - val_loss: 0.6122 - val_acc: 0.0321\n",
      "Epoch 16/30\n",
      "58128/58128 [==============================] - 3s 49us/step - loss: 0.1232 - acc: 0.0519 - val_loss: 0.4082 - val_acc: 0.0323\n",
      "Epoch 17/30\n",
      "58128/58128 [==============================] - 3s 50us/step - loss: 0.1184 - acc: 0.0556 - val_loss: 0.4117 - val_acc: 0.0839\n",
      "Epoch 18/30\n",
      "58128/58128 [==============================] - 3s 48us/step - loss: 0.1178 - acc: 0.0558 - val_loss: 0.4768 - val_acc: 0.0509\n",
      "Epoch 19/30\n",
      "58128/58128 [==============================] - 3s 48us/step - loss: 0.1181 - acc: 0.0559 - val_loss: 0.5585 - val_acc: 0.0557\n",
      "Epoch 20/30\n",
      "58128/58128 [==============================] - 3s 48us/step - loss: 0.1186 - acc: 0.0570 - val_loss: 0.3693 - val_acc: 0.0943\n",
      "Epoch 21/30\n",
      "58128/58128 [==============================] - 3s 48us/step - loss: 0.1145 - acc: 0.0564 - val_loss: 0.4119 - val_acc: 0.0264\n",
      "Epoch 22/30\n",
      "58128/58128 [==============================] - 3s 48us/step - loss: 0.1142 - acc: 0.0574 - val_loss: 0.4472 - val_acc: 0.0581\n",
      "Epoch 23/30\n",
      "58128/58128 [==============================] - 3s 47us/step - loss: 0.1133 - acc: 0.0578 - val_loss: 0.5715 - val_acc: 0.0176\n",
      "Epoch 24/30\n",
      "58128/58128 [==============================] - 3s 49us/step - loss: 0.1151 - acc: 0.0594 - val_loss: 0.4010 - val_acc: 0.0945\n",
      "Epoch 25/30\n",
      "58128/58128 [==============================] - 3s 48us/step - loss: 0.1113 - acc: 0.0586 - val_loss: 0.4255 - val_acc: 0.0422\n",
      "Epoch 26/30\n",
      "58128/58128 [==============================] - 3s 48us/step - loss: 0.1117 - acc: 0.0596 - val_loss: 0.4765 - val_acc: 0.0448\n",
      "Epoch 27/30\n",
      "58128/58128 [==============================] - 3s 49us/step - loss: 0.1117 - acc: 0.0590 - val_loss: 0.5415 - val_acc: 0.0830\n",
      "Epoch 28/30\n",
      "58128/58128 [==============================] - 3s 49us/step - loss: 0.1127 - acc: 0.0593 - val_loss: 0.3536 - val_acc: 0.0882\n",
      "Epoch 29/30\n",
      "58128/58128 [==============================] - 3s 50us/step - loss: 0.1090 - acc: 0.0597 - val_loss: 0.3630 - val_acc: 0.0313\n",
      "Epoch 30/30\n",
      "58128/58128 [==============================] - 3s 49us/step - loss: 0.1094 - acc: 0.0602 - val_loss: 0.4568 - val_acc: 0.0636\n"
     ]
    }
   ],
   "source": [
    "autoencoder.compile(optimizer='adam', metrics=['accuracy'], loss='mean_squared_error')\n",
    "\n",
    "history = autoencoder.fit(df_train_x0, df_train_x0,\n",
    "               epochs=30,\n",
    "               batch_size = 128,\n",
    "               validation_data=(df_val_x0, df_val_x0))"
   ]
  },
  {
   "cell_type": "code",
   "execution_count": 7,
   "metadata": {
    "scrolled": true
   },
   "outputs": [
    {
     "data": {
      "text/plain": [
       "<matplotlib.legend.Legend at 0x7fa8880e36a0>"
      ]
     },
     "execution_count": 7,
     "metadata": {},
     "output_type": "execute_result"
    },
    {
     "data": {
      "image/png": "[encoded data removed]",
      "text/plain": [
       "<Figure size 432x288 with 1 Axes>"
      ]
     },
     "metadata": {},
     "output_type": "display_data"
    }
   ],
   "source": [
    "import matplotlib.pyplot as plt\n",
    "\n",
    "loss = history.history['loss']\n",
    "val_loss = history.history['val_loss']\n",
    "\n",
    "epochs = range(len(loss))\n",
    "\n",
    "plt.figure()\n",
    "\n",
    "plt.plot(epochs, loss, 'bo', label='Training loss')\n",
    "plt.plot(epochs, val_loss, 'b', label='Validation loss')\n",
    "plt.title('Training and validation loss')\n",
    "plt.legend()"
   ]
  },
  {
   "cell_type": "code",
   "execution_count": 8,
   "metadata": {},
   "outputs": [
    {
     "data": {
      "image/png": "[encoded data removed]",
      "text/plain": [
       "<Figure size 432x288 with 1 Axes>"
      ]
     },
     "metadata": {},
     "output_type": "display_data"
    }
   ],
   "source": [
    "# Get cutoff\n",
    "\n",
    "val_predict = autoencoder.predict(df_val.loc[:, df_val.columns !='FLG_FAIL_SHIFTED'])\n",
    "mse = np.mean(np.power(df_val.loc[:, df_val.columns !='FLG_FAIL_SHIFTED'] - val_predict, 1), axis=1)\n",
    "\n",
    "df_error = pd.DataFrame({'RECONSTRUCTION_ERROR':mse, 'TRUE_CLASS':df_val['FLG_FAIL_SHIFTED']})\n",
    "\n",
    "precision_rt, recall_rt, threshold_rt = precision_recall_curve(df_error['TRUE_CLASS'], df_error['RECONSTRUCTION_ERROR'])\n",
    "plt.plot(threshold_rt, precision_rt[1:], label='Precision')\n",
    "plt.plot(threshold_rt, recall_rt[1:], label='Recall')\n",
    "#plt.xlim(0, 1)\n",
    "plt.show()\n",
    "\n",
    "# cutoff - 0.07"
   ]
  },
  {
   "cell_type": "code",
   "execution_count": 9,
   "metadata": {},
   "outputs": [
    {
     "data": {
      "text/plain": [
       "array([[23417,  9530],\n",
       "       [  432,     0]])"
      ]
     },
     "execution_count": 9,
     "metadata": {},
     "output_type": "execute_result"
    }
   ],
   "source": [
    "test_pred = autoencoder.predict(df_test_x0.loc[:, df_test_x0.columns!='FLG_FAIL_SHIFTED'])\n",
    "mse = np.mean(np.power(df_test_x0.loc[:, df_test_x0.columns!='FLG_FAIL_SHIFTED']-test_pred, 1), axis=1)\n",
    "\n",
    "df_error_test = pd.DataFrame({'RECONSTRUCTION_ERROR':mse, 'TRUE_CLASS':df_test['FLG_FAIL_SHIFTED']})\n",
    "cutoff = 0.05\n",
    "\n",
    "pred = [1 if error > cutoff else 0 for error in df_error_test['RECONSTRUCTION_ERROR'].values]\n",
    "confusion_matrix(df_error_test['TRUE_CLASS'], pred)"
   ]
  },
  {
   "cell_type": "code",
   "execution_count": null,
   "metadata": {},
   "outputs": [],
   "source": []
  }
 ],
 "metadata": {
  "kernelspec": {
   "display_name": "Python 3",
   "language": "python",
   "name": "python3"
  },
  "language_info": {
   "codemirror_mode": {
    "name": "ipython",
    "version": 3
   },
   "file_extension": ".py",
   "mimetype": "text/x-python",
   "name": "python",
   "nbconvert_exporter": "python",
   "pygments_lexer": "ipython3",
   "version": "3.6.6"
  }
 },
 "nbformat": 4,
 "nbformat_minor": 2
}

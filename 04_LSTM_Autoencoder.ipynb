{
 "cells": [
  {
   "cell_type": "code",
   "execution_count": 67,
   "metadata": {},
   "outputs": [
    {
     "data": {
      "text/plain": [
       "(108379, 110)"
      ]
     },
     "execution_count": 67,
     "metadata": {},
     "output_type": "execute_result"
    }
   ],
   "source": [
    "import pandas as pd\n",
    "import numpy as np\n",
    "import matplotlib.pyplot as plt\n",
    "\n",
    "\n",
    "from sklearn.metrics import confusion_matrix, precision_recall_curve\n",
    "from sklearn.metrics import recall_score, classification_report, auc, roc_curve\n",
    "from sklearn.metrics import precision_recall_fscore_support, f1_score\n",
    "\n",
    "# Read Data\n",
    "df_model = pd.read_csv('df_model.csv')\n",
    "\n",
    "df_model.drop(['DATE', 'TIMESTAMP', 'TIME_SLOT_HR', 'TIME_SLOT_MIN'], axis=1, inplace=True)\n",
    "\n",
    "train_indx = range(0, 55000)\n",
    "val_indx = range(55000, 80000)\n",
    "test_indx = range(80000, df_model.shape[0])\n",
    "\n",
    "# Normalize numeric columns\n",
    "num_cols = df_model.columns[df_model.dtypes =='float64']\n",
    "\n",
    "mean = df_model.loc[train_indx, num_cols].mean(axis = 0)\n",
    "sd = df_model.loc[train_indx, num_cols].std(axis = 0)\n",
    "df_model[num_cols] = df_model[num_cols] - mean\n",
    "df_model[num_cols] = df_model[num_cols]/sd\n",
    "\n",
    "\n",
    "# Function to shift y values\n",
    "sign = lambda x: (1, -1)[x < 0]\n",
    "def fn_data_shift(data, shift=-72, ycol='FLG_FAIL', out_col='FLG_FAIL_SHIFTED'):\n",
    "    vec = data[ycol].copy()\n",
    "    \n",
    "    for i in range(abs(shift)):\n",
    "        temp = vec.shift(sign(shift))\n",
    "        temp = temp.fillna(0)\n",
    "        vec = vec + temp\n",
    "    \n",
    "    data[out_col] = vec\n",
    "    data.loc[data[out_col]>0, out_col] = 1\n",
    "    \n",
    "    return data\n",
    "\n",
    "df_model_shifted = fn_data_shift(data=df_model, shift=-144) # Aim to Predict 1 day before failure\n",
    "\n",
    "# Drop data for original failure\n",
    "rwdrop_indx = df_model_shifted[df_model_shifted['FLG_FAIL']==1].index\n",
    "df_model_shifted = df_model_shifted.drop(rwdrop_indx)\n",
    "df_model_shifted.drop('FLG_FAIL', axis=1, inplace=True) # Drop original column\n",
    "\n",
    "df_model_shifted.shape"
   ]
  },
  {
   "cell_type": "code",
   "execution_count": 34,
   "metadata": {},
   "outputs": [
    {
     "name": "stdout",
     "output_type": "stream",
     "text": [
      "(58128, 109) (58128,) (1872, 109) (1872,)\n",
      "(29136, 109) (29136,) (864, 109) (864,)\n",
      "(32947, 109) (32947,) (432, 109) (432,)\n"
     ]
    }
   ],
   "source": [
    "# divide data into train/test/valid\n",
    "\n",
    "train_indx = range(0, 60000)\n",
    "val_indx = range(60000, 90000)\n",
    "test_indx = range(75000, df_model_shifted.shape[0])\n",
    "\n",
    "df_train = df_model_shifted.iloc[train_indx]\n",
    "df_val = df_model_shifted.iloc[val_indx]\n",
    "df_test = df_model_shifted.iloc[test_indx]\n",
    "\n",
    "# Separate 0/1 instances for auto encoder approach\n",
    "df_train_x0 = df_train.loc[df_train['FLG_FAIL_SHIFTED']==0, df_train.columns !='FLG_FAIL_SHIFTED']\n",
    "df_train_y0 = df_train.loc[df_train['FLG_FAIL_SHIFTED']==0, 'FLG_FAIL_SHIFTED']\n",
    "df_train_x1 = df_train.loc[df_train['FLG_FAIL_SHIFTED']==1, df_train.columns !='FLG_FAIL_SHIFTED']\n",
    "df_train_y1 = df_train.loc[df_train['FLG_FAIL_SHIFTED']==1, 'FLG_FAIL_SHIFTED']\n",
    "\n",
    "df_val_x0 = df_val.loc[df_val['FLG_FAIL_SHIFTED']==0, df_val.columns !='FLG_FAIL_SHIFTED']\n",
    "df_val_y0 = df_val.loc[df_val['FLG_FAIL_SHIFTED']==0, 'FLG_FAIL_SHIFTED']\n",
    "df_val_x1 = df_val.loc[df_val['FLG_FAIL_SHIFTED']==1, df_val.columns !='FLG_FAIL_SHIFTED']\n",
    "df_val_y1 = df_val.loc[df_val['FLG_FAIL_SHIFTED']==1, 'FLG_FAIL_SHIFTED']\n",
    "\n",
    "df_test_x0 = df_test.loc[df_test['FLG_FAIL_SHIFTED']==0, df_test.columns !='FLG_FAIL_SHIFTED']\n",
    "df_test_y0 = df_test.loc[df_test['FLG_FAIL_SHIFTED']==0, 'FLG_FAIL_SHIFTED']\n",
    "df_test_x1 = df_test.loc[df_test['FLG_FAIL_SHIFTED']==1, df_test.columns !='FLG_FAIL_SHIFTED']\n",
    "df_test_y1 = df_test.loc[df_test['FLG_FAIL_SHIFTED']==1, 'FLG_FAIL_SHIFTED']\n",
    "\n",
    "print(df_train_x0.shape, df_train_y0.shape, df_train_x1.shape, df_train_y1.shape)\n",
    "print(df_val_x0.shape, df_val_y0.shape, df_val_x1.shape, df_val_y1.shape)\n",
    "print(df_test_x0.shape, df_test_y0.shape, df_test_x1.shape, df_test_y1.shape)"
   ]
  },
  {
   "cell_type": "code",
   "execution_count": 35,
   "metadata": {},
   "outputs": [],
   "source": [
    "#df_model_X = df_model_shifted.loc[:, df_model_shifted.columns!='FLG_FAIL_SHIFTED']\n",
    "#df_model_y = df_model_shifted['FLG_FAIL_SHIFTED'].values\n",
    "\n",
    "#df_model_X.shape, df_model_y.shape\n",
    "\n",
    "# Function to convert data to 3d tensor\n",
    "def fn_3dop(data , y_in , lookback, step):\n",
    "    \n",
    "    samples = np.zeros((len(data)-lookback+1, lookback//step, data.shape[-1]))\n",
    "    target = np.zeros((len(data)-lookback+1))\n",
    "    \n",
    "    print(samples.shape, target.shape)\n",
    "    \n",
    "    start_indx = lookback - 1\n",
    "    end_indx = len(data)\n",
    "    nrows = end_indx - start_indx\n",
    "    \n",
    "    for i in range(nrows):\n",
    "        indx = range(i,i+lookback, step)\n",
    "        samples[i] = data[indx]\n",
    "        target[i] = y_in[indx][-1]\n",
    "        \n",
    "    return samples, target"
   ]
  },
  {
   "cell_type": "code",
   "execution_count": 36,
   "metadata": {},
   "outputs": [],
   "source": [
    "df_train_x0 = np.array(df_train_x0)\n",
    "df_train_y0 = np.array(df_train_y0)\n",
    "\n",
    "df_val_x0 = np.array(df_val_x0)\n",
    "df_val_y0 = np.array(df_val_y0)\n",
    "\n",
    "df_test_x0 = np.array(df_test_x0)\n",
    "df_test_y0 = np.array(df_test_y0)"
   ]
  },
  {
   "cell_type": "code",
   "execution_count": 37,
   "metadata": {},
   "outputs": [
    {
     "name": "stdout",
     "output_type": "stream",
     "text": [
      "(58057, 24, 109) (58057,)\n",
      "(29065, 24, 109) (29065,)\n"
     ]
    }
   ],
   "source": [
    "df_train_x0_3d, df_train_y0_3d = fn_3dop(df_train_x0, y_in=df_train_y0, lookback=72, step=3)\n",
    "df_val_x0_3d, df_val_y0_3d = fn_3dop(df_val_x0, y_in=df_val_y0, lookback=72, step=3)"
   ]
  },
  {
   "cell_type": "code",
   "execution_count": 44,
   "metadata": {},
   "outputs": [],
   "source": [
    "from keras.models import Sequential\n",
    "from keras.layers import LSTM, Dense, RepeatVector, TimeDistributed\n",
    "\n",
    "lstm_autoencoder = Sequential()"
   ]
  },
  {
   "cell_type": "code",
   "execution_count": 45,
   "metadata": {},
   "outputs": [
    {
     "name": "stdout",
     "output_type": "stream",
     "text": [
      "_________________________________________________________________\n",
      "Layer (type)                 Output Shape              Param #   \n",
      "=================================================================\n",
      "lstm_9 (LSTM)                (None, 24, 32)            18176     \n",
      "_________________________________________________________________\n",
      "lstm_10 (LSTM)               (None, 16)                3136      \n",
      "_________________________________________________________________\n",
      "repeat_vector_3 (RepeatVecto (None, 24, 16)            0         \n",
      "_________________________________________________________________\n",
      "lstm_11 (LSTM)               (None, 24, 16)            2112      \n",
      "_________________________________________________________________\n",
      "lstm_12 (LSTM)               (None, 24, 32)            6272      \n",
      "_________________________________________________________________\n",
      "time_distributed_3 (TimeDist (None, 24, 109)           3597      \n",
      "=================================================================\n",
      "Total params: 33,293\n",
      "Trainable params: 33,293\n",
      "Non-trainable params: 0\n",
      "_________________________________________________________________\n"
     ]
    }
   ],
   "source": [
    "n_timestamps = df_train_x0_3d.shape[1]\n",
    "n_features = df_train_x0_3d.shape[2]\n",
    "\n",
    "lstm_autoencoder.add(LSTM(32, activation='relu', input_shape=(n_timestamps, n_features), return_sequences=True))\n",
    "lstm_autoencoder.add(LSTM(16, activation='relu', return_sequences=False))\n",
    "lstm_autoencoder.add(RepeatVector(n_timestamps))\n",
    "lstm_autoencoder.add(LSTM(16, activation='relu', return_sequences=True))\n",
    "lstm_autoencoder.add(LSTM(32, activation='relu', return_sequences=True))\n",
    "lstm_autoencoder.add(TimeDistributed(Dense(n_features)))\n",
    "\n",
    "lstm_autoencoder.summary()"
   ]
  },
  {
   "cell_type": "code",
   "execution_count": 46,
   "metadata": {},
   "outputs": [
    {
     "name": "stdout",
     "output_type": "stream",
     "text": [
      "Train on 58057 samples, validate on 29065 samples\n",
      "Epoch 1/15\n",
      "58057/58057 [==============================] - 77s 1ms/step - loss: 0.1419 - acc: 0.1599 - val_loss: 0.9896 - val_acc: 0.2432\n",
      "Epoch 2/15\n",
      "58057/58057 [==============================] - 74s 1ms/step - loss: 0.0722 - acc: 0.4031 - val_loss: 0.9662 - val_acc: 0.3447\n",
      "Epoch 3/15\n",
      "58057/58057 [==============================] - 74s 1ms/step - loss: 0.0652 - acc: 0.4350 - val_loss: 0.9577 - val_acc: 0.3844\n",
      "Epoch 4/15\n",
      "58057/58057 [==============================] - 75s 1ms/step - loss: 0.0647 - acc: 0.4263 - val_loss: 1.0049 - val_acc: 0.4305\n",
      "Epoch 5/15\n",
      "58057/58057 [==============================] - 74s 1ms/step - loss: 0.0636 - acc: 0.4171 - val_loss: 1.0906 - val_acc: 0.3642\n",
      "Epoch 6/15\n",
      "58057/58057 [==============================] - 74s 1ms/step - loss: 0.0616 - acc: 0.4302 - val_loss: 0.9804 - val_acc: 0.4309\n",
      "Epoch 7/15\n",
      "58057/58057 [==============================] - 74s 1ms/step - loss: 0.0580 - acc: 0.4504 - val_loss: 0.9679 - val_acc: 0.4203\n",
      "Epoch 8/15\n",
      "58057/58057 [==============================] - 75s 1ms/step - loss: 0.0566 - acc: 0.4635 - val_loss: 0.9474 - val_acc: 0.4215\n",
      "Epoch 9/15\n",
      "58057/58057 [==============================] - 74s 1ms/step - loss: 0.0557 - acc: 0.4706 - val_loss: 1.0552 - val_acc: 0.4420\n",
      "Epoch 10/15\n",
      "58057/58057 [==============================] - 74s 1ms/step - loss: 0.0567 - acc: 0.4608 - val_loss: 0.9479 - val_acc: 0.4693\n",
      "Epoch 11/15\n",
      "58057/58057 [==============================] - 74s 1ms/step - loss: 0.0546 - acc: 0.4818 - val_loss: 0.9547 - val_acc: 0.4427\n",
      "Epoch 12/15\n",
      "58057/58057 [==============================] - 74s 1ms/step - loss: 0.0538 - acc: 0.4895 - val_loss: 0.9540 - val_acc: 0.4640\n",
      "Epoch 13/15\n",
      "58057/58057 [==============================] - 76s 1ms/step - loss: 0.0533 - acc: 0.4916 - val_loss: 0.9485 - val_acc: 0.4598\n",
      "Epoch 14/15\n",
      "58057/58057 [==============================] - 74s 1ms/step - loss: 0.0528 - acc: 0.4993 - val_loss: 0.9565 - val_acc: 0.4841\n",
      "Epoch 15/15\n",
      "58057/58057 [==============================] - 74s 1ms/step - loss: 0.0522 - acc: 0.5016 - val_loss: 0.9558 - val_acc: 0.4519\n"
     ]
    }
   ],
   "source": [
    "lstm_autoencoder.compile(loss='mse', optimizer='adam', metrics=['accuracy'])\n",
    "\n",
    "lstm_history = lstm_autoencoder.fit(df_train_x0_3d, df_train_x0_3d,\n",
    "                                   epochs=15,\n",
    "                                   batch_size=144,\n",
    "                                   validation_data=(df_val_x0_3d, df_val_x0_3d))"
   ]
  },
  {
   "cell_type": "code",
   "execution_count": 47,
   "metadata": {},
   "outputs": [
    {
     "data": {
      "text/plain": [
       "<matplotlib.legend.Legend at 0x7f8e9234e8d0>"
      ]
     },
     "execution_count": 47,
     "metadata": {},
     "output_type": "execute_result"
    },
    {
     "data": {
      "image/png": "[encoded data removed]",
      "text/plain": [
       "<Figure size 432x288 with 1 Axes>"
      ]
     },
     "metadata": {},
     "output_type": "display_data"
    }
   ],
   "source": [
    "import matplotlib.pyplot as plt\n",
    "\n",
    "loss = lstm_history.history['loss']\n",
    "val_loss = lstm_history.history['val_loss']\n",
    "\n",
    "epochs = range(len(loss))\n",
    "\n",
    "plt.figure()\n",
    "\n",
    "plt.plot(epochs, loss, 'bo', label='Training loss')\n",
    "plt.plot(epochs, val_loss, 'b', label='Validation loss')\n",
    "plt.title('Training and validation loss')\n",
    "plt.legend()"
   ]
  },
  {
   "cell_type": "code",
   "execution_count": 51,
   "metadata": {},
   "outputs": [
    {
     "name": "stdout",
     "output_type": "stream",
     "text": [
      "(29929, 24, 109) (29929,)\n"
     ]
    }
   ],
   "source": [
    "# Create 3d tensor\n",
    "df_val_x_3d, df_val_y = fn_3dop(data=np.array(df_val.loc[:, df_val.columns!='FLG_FAIL_SHIFTED']), \n",
    "                                  lookback=72, step=3, \n",
    "                                  y_in=np.array(df_val['FLG_FAIL_SHIFTED']))\n",
    "\n",
    "val_predict = lstm_autoencoder.predict(df_val_x_3d)\n",
    "\n",
    "# convert to 2d for comparision\n",
    "val_predict_2d = np.empty((val_predict.shape[0], val_predict.shape[2]))\n",
    "for i in range(val_predict.shape[0]):\n",
    "    val_predict_2d[i] = val_predict[i, (val_predict.shape[1]-1), :]\n",
    "    \n",
    "val_in_2d = np.empty((df_val_x_3d.shape[0], df_val_x_3d.shape[2]))\n",
    "for i in range(df_val_x_3d.shape[0]):\n",
    "    val_in_2d[i] = df_val_x_3d[i, (df_val_x_3d.shape[1]-1), :]"
   ]
  },
  {
   "cell_type": "code",
   "execution_count": 63,
   "metadata": {},
   "outputs": [],
   "source": [
    "mse = np.mean(np.power(val_in_2d - val_predict_2d, 2), axis=1)"
   ]
  },
  {
   "cell_type": "code",
   "execution_count": 71,
   "metadata": {},
   "outputs": [
    {
     "data": {
      "image/png": "[encoded data removed]",
      "text/plain": [
       "<Figure size 432x288 with 1 Axes>"
      ]
     },
     "metadata": {},
     "output_type": "display_data"
    }
   ],
   "source": [
    "df_error = pd.DataFrame({'RECONSTRUCTION_ERROR':mse, 'TRUE_CLASS':df_val_y.tolist()})\n",
    "\n",
    "precision_rt, recall_rt, threshold_rt = precision_recall_curve(df_error['TRUE_CLASS'], df_error['RECONSTRUCTION_ERROR'])\n",
    "plt.plot(threshold_rt, precision_rt[1:], label='Precision')\n",
    "plt.plot(threshold_rt, recall_rt[1:], label='Recall')\n",
    "plt.xlim(0, 1)\n",
    "plt.title('Precision and recall vs threshold values')\n",
    "plt.xlabel('Threshold')\n",
    "plt.ylabel('Precision/Recall')\n",
    "plt.legend()\n",
    "plt.show()"
   ]
  },
  {
   "cell_type": "code",
   "execution_count": null,
   "metadata": {},
   "outputs": [],
   "source": [
    "test_pred = autoencoder.predict(df_test_x0.loc[:, df_test_x0.columns!='FLG_FAIL_SHIFTED'])\n",
    "mse = np.mean(np.power(df_test_x0.loc[:, df_test_x0.columns!='FLG_FAIL_SHIFTED']-test_pred, 1), axis=1)\n",
    "\n",
    "df_error_test = pd.DataFrame({'RECONSTRUCTION_ERROR':mse, 'TRUE_CLASS':df_test['FLG_FAIL_SHIFTED']})\n",
    "cutoff = 0.05\n",
    "\n",
    "pred = [1 if error > cutoff else 0 for error in df_error_test['RECONSTRUCTION_ERROR'].values]\n",
    "confusion_matrix(df_error_test['TRUE_CLASS'], pred)"
   ]
  }
 ],
 "metadata": {
  "kernelspec": {
   "display_name": "Python 3",
   "language": "python",
   "name": "python3"
  },
  "language_info": {
   "codemirror_mode": {
    "name": "ipython",
    "version": 3
   },
   "file_extension": ".py",
   "mimetype": "text/x-python",
   "name": "python",
   "nbconvert_exporter": "python",
   "pygments_lexer": "ipython3",
   "version": "3.6.6"
  }
 },
 "nbformat": 4,
 "nbformat_minor": 2
}

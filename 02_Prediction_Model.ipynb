{
 "cells": [
  {
   "cell_type": "markdown",
   "metadata": {},
   "source": [
    "## Data Processing"
   ]
  },
  {
   "cell_type": "code",
   "execution_count": 2,
   "metadata": {},
   "outputs": [
    {
     "name": "stdout",
     "output_type": "stream",
     "text": [
      "# Failure Instances --  DATE    20\n",
      "dtype: int64\n"
     ]
    },
    {
     "data": {
      "text/plain": [
       "[<matplotlib.lines.Line2D at 0x7f51083ed240>]"
      ]
     },
     "execution_count": 2,
     "metadata": {},
     "output_type": "execute_result"
    },
    {
     "data": {
      "image/png": "[encoded data removed]",
      "text/plain": [
       "<Figure size 432x288 with 1 Axes>"
      ]
     },
     "metadata": {},
     "output_type": "display_data"
    }
   ],
   "source": [
    "import pandas as pd\n",
    "import numpy as np\n",
    "import matplotlib.pyplot as plt\n",
    "\n",
    "# Read Data\n",
    "df_model = pd.read_csv('df_model.csv')\n",
    "\n",
    "# Distribution of Failures\n",
    "print(\"# Failure Instances -- \", df_model.loc[df_model['FLG_FAIL']==1, ['DATE']].nunique())\n",
    "plt.plot(range(df_model.shape[0]), df_model['FLG_FAIL']) # There is a period of close failures in the data."
   ]
  },
  {
   "cell_type": "code",
   "execution_count": 2,
   "metadata": {},
   "outputs": [],
   "source": [
    "df_model.drop(['DATE', 'TIMESTAMP'], axis=1, inplace=True)\n",
    "\n",
    "train_indx = range(0, 60000)\n",
    "val_indx = range(60000, 75000)\n",
    "test_indx = range(75000, df_model.shape[0])\n",
    "\n",
    "# Normalize the data using train stat\n",
    "\n",
    "num_cols = df_model.columns[df_model.dtypes =='float64']\n",
    "\n",
    "mean = df_model.loc[train_indx, num_cols].mean(axis = 0)\n",
    "sd = df_model.loc[train_indx, num_cols].std(axis = 0)\n",
    "\n",
    "df_model[num_cols] = df_model[num_cols] - mean\n",
    "df_model[num_cols] = df_model[num_cols]/sd\n",
    "\n",
    "df_model = np.array(df_model)"
   ]
  },
  {
   "cell_type": "code",
   "execution_count": 3,
   "metadata": {},
   "outputs": [],
   "source": [
    "# Data needs to be sampled because of hardware constraint. \n",
    "# Even with a poweful GPU, model training ETA is over 24 hours.\n",
    "# Sample - 1 obs every 1 hour. Reducing the size by 1/6th. Not the most optimal solution though\n",
    "\n",
    "# generator to parameterize lookback and lookforward period and produce 3d tensor for time series analysis\n",
    "\n",
    "# lookback - how many time stamps the data goes back to for each observation prediction\n",
    "# delay - how many timestamps in future to predict\n",
    "# min_index, max_index - index in to control timesteps to draw from\n",
    "# step = 6 - sample every 6th observation\n",
    "\n",
    "def data_gen(data, lookback, delay, min_index, max_index,batch_size=256, step=6):\n",
    "    st = min_index + lookback # starting point\n",
    "    end = max(max_index, st+batch_size) # end point\n",
    "    rows = np.arange(st, end, step) # row index -- introduced a step of 6\n",
    "    \n",
    "    st = st + len(rows)\n",
    "    \n",
    "    while True:\n",
    "        samples = np.zeros((len(rows), lookback//step, data.shape[-1])) #3d tensor for each timepoint with lookback\n",
    "        target = np.zeros((len(rows,)))\n",
    "\n",
    "        for i, row in enumerate(rows): #draw data\n",
    "            indx = range(rows[i] - lookback, rows[i], step)\n",
    "            samples[i] = data[indx]\n",
    "            target[i] = data[rows[i] + delay][-1]\n",
    "        yield samples, target            "
   ]
  },
  {
   "cell_type": "code",
   "execution_count": 4,
   "metadata": {},
   "outputs": [],
   "source": [
    "# Generators for train, validation, and test\n",
    "\n",
    "lookback = 288 # 2 days\n",
    "delay = 144 # predict for next day\n",
    "batch_size=256\n",
    "step=6\n",
    "\n",
    "\n",
    "train_gen = data_gen(data=df_model, \n",
    "                     lookback=lookback, \n",
    "                     delay=delay, \n",
    "                     min_index=min(train_indx), \n",
    "                     max_index=max(train_indx),\n",
    "                    batch_size=batch_size,\n",
    "                    step=6)\n",
    "\n",
    "val_gen = data_gen(data=df_model, \n",
    "                     lookback=lookback, \n",
    "                     delay=delay, \n",
    "                     min_index=min(val_indx), \n",
    "                     max_index=max(val_indx),\n",
    "                    batch_size=batch_size,\n",
    "                  step=6)\n",
    "\n",
    "test_gen = data_gen(data=df_model, \n",
    "                     lookback=lookback, \n",
    "                     delay=delay, \n",
    "                     min_index=min(test_indx), \n",
    "                     max_index=max(test_indx),\n",
    "                    batch_size=batch_size,\n",
    "                   step=6)\n",
    "\n",
    "val_steps = (max(val_indx) - min(val_indx) - lookback)//(batch_size)\n",
    "test_steps = (max(test_indx) - min(test_indx) - lookback)//(batch_size)"
   ]
  },
  {
   "cell_type": "markdown",
   "metadata": {},
   "source": [
    "## Simple Dense NN"
   ]
  },
  {
   "cell_type": "code",
   "execution_count": 10,
   "metadata": {},
   "outputs": [
    {
     "name": "stdout",
     "output_type": "stream",
     "text": [
      "Epoch 1/20\n",
      "500/500 [==============================] - 220s 440ms/step - loss: 0.0152 - binary_accuracy: 0.9957 - val_loss: 0.1135 - val_binary_accuracy: 0.9759\n",
      "Epoch 2/20\n",
      "500/500 [==============================] - 217s 435ms/step - loss: 0.0058 - binary_accuracy: 0.9988 - val_loss: 0.2073 - val_binary_accuracy: 0.9641\n",
      "Epoch 3/20\n",
      "500/500 [==============================] - 216s 432ms/step - loss: 0.0035 - binary_accuracy: 0.9995 - val_loss: 0.2464 - val_binary_accuracy: 0.9343\n",
      "Epoch 4/20\n",
      "500/500 [==============================] - 218s 436ms/step - loss: 0.0023 - binary_accuracy: 0.9998 - val_loss: 0.2662 - val_binary_accuracy: 0.9331\n",
      "Epoch 5/20\n",
      "500/500 [==============================] - 216s 433ms/step - loss: 0.0015 - binary_accuracy: 0.9998 - val_loss: 0.2721 - val_binary_accuracy: 0.9360\n",
      "Epoch 6/20\n",
      "500/500 [==============================] - 220s 439ms/step - loss: 0.0011 - binary_accuracy: 0.9999 - val_loss: 0.2951 - val_binary_accuracy: 0.9335\n",
      "Epoch 7/20\n",
      "500/500 [==============================] - 217s 434ms/step - loss: 8.1849e-04 - binary_accuracy: 0.9999 - val_loss: 0.3323 - val_binary_accuracy: 0.9274\n",
      "Epoch 8/20\n",
      "500/500 [==============================] - 217s 435ms/step - loss: 6.6908e-04 - binary_accuracy: 0.9999 - val_loss: 0.3342 - val_binary_accuracy: 0.9319\n",
      "Epoch 9/20\n",
      "500/500 [==============================] - 218s 435ms/step - loss: 5.2550e-04 - binary_accuracy: 0.9999 - val_loss: 0.3857 - val_binary_accuracy: 0.9209\n",
      "Epoch 10/20\n",
      "500/500 [==============================] - 216s 432ms/step - loss: 4.2684e-04 - binary_accuracy: 0.9999 - val_loss: 0.3718 - val_binary_accuracy: 0.9274\n",
      "Epoch 11/20\n",
      "500/500 [==============================] - 217s 434ms/step - loss: 4.1528e-04 - binary_accuracy: 0.9999 - val_loss: 0.4213 - val_binary_accuracy: 0.9201\n",
      "Epoch 12/20\n",
      "500/500 [==============================] - 216s 433ms/step - loss: 2.8290e-04 - binary_accuracy: 1.0000 - val_loss: 0.4375 - val_binary_accuracy: 0.9188\n",
      "Epoch 13/20\n",
      "500/500 [==============================] - 218s 436ms/step - loss: 3.0084e-04 - binary_accuracy: 0.9999 - val_loss: 0.4565 - val_binary_accuracy: 0.9188\n",
      "Epoch 14/20\n",
      "500/500 [==============================] - 216s 433ms/step - loss: 3.0072e-04 - binary_accuracy: 1.0000 - val_loss: 0.4656 - val_binary_accuracy: 0.9197\n",
      "Epoch 15/20\n",
      "500/500 [==============================] - 217s 433ms/step - loss: 1.9193e-04 - binary_accuracy: 1.0000 - val_loss: 0.4967 - val_binary_accuracy: 0.9156\n",
      "Epoch 16/20\n",
      "500/500 [==============================] - 218s 436ms/step - loss: 2.1616e-04 - binary_accuracy: 1.0000 - val_loss: 0.4912 - val_binary_accuracy: 0.9197\n",
      "Epoch 17/20\n",
      "500/500 [==============================] - 218s 435ms/step - loss: 1.4909e-04 - binary_accuracy: 1.0000 - val_loss: 0.5203 - val_binary_accuracy: 0.9148\n",
      "Epoch 18/20\n",
      "500/500 [==============================] - 217s 434ms/step - loss: 1.4651e-04 - binary_accuracy: 1.0000 - val_loss: 0.5104 - val_binary_accuracy: 0.9213\n",
      "Epoch 19/20\n",
      "500/500 [==============================] - 218s 437ms/step - loss: 2.0317e-04 - binary_accuracy: 1.0000 - val_loss: 0.5472 - val_binary_accuracy: 0.9160\n",
      "Epoch 20/20\n",
      "500/500 [==============================] - 217s 435ms/step - loss: 1.5755e-04 - binary_accuracy: 1.0000 - val_loss: 0.5497 - val_binary_accuracy: 0.9156\n"
     ]
    }
   ],
   "source": [
    "from keras.models import Sequential\n",
    "from keras import layers\n",
    "from keras.optimizers import RMSprop\n",
    "\n",
    "m1 = Sequential()\n",
    "m1.add(layers.Flatten(input_shape=(lookback//step, df_model.shape[-1])))\n",
    "m1.add(layers.Dense(16, activation='relu'))\n",
    "#m1.add(layers.Dense(16, activation='relu'))\n",
    "m1.add(layers.Dense(1, activation='sigmoid'))\n",
    "\n",
    "m1.compile(optimizer=RMSprop(), loss='binary_crossentropy', metrics=['binary_accuracy'])\n",
    "\n",
    "history = m1.fit_generator(train_gen,\n",
    "                          epochs = 20,\n",
    "                          steps_per_epoch=500,\n",
    "                          validation_data=val_gen,\n",
    "                          validation_steps=val_steps)"
   ]
  },
  {
   "cell_type": "code",
   "execution_count": 12,
   "metadata": {},
   "outputs": [
    {
     "data": {
      "text/plain": [
       "<matplotlib.legend.Legend at 0x7fab6c7cf5c0>"
      ]
     },
     "execution_count": 12,
     "metadata": {},
     "output_type": "execute_result"
    },
    {
     "data": {
      "image/png": "[encoded data removed]",
      "text/plain": [
       "<Figure size 432x288 with 1 Axes>"
      ]
     },
     "metadata": {},
     "output_type": "display_data"
    }
   ],
   "source": [
    "# Loss for train vs Test\n",
    "\n",
    "import matplotlib.pyplot as plt\n",
    "\n",
    "loss = history.history['loss']\n",
    "val_loss = history.history['val_loss']\n",
    "\n",
    "epochs = range(len(loss))\n",
    "\n",
    "plt.figure()\n",
    "\n",
    "plt.plot(epochs, loss, 'bo', label='Training loss')\n",
    "plt.plot(epochs, val_loss, 'b', label='Validation loss')\n",
    "plt.title('Training and validation loss')\n",
    "plt.legend()"
   ]
  },
  {
   "cell_type": "markdown",
   "metadata": {},
   "source": [
    "## Un-regularized RNN"
   ]
  },
  {
   "cell_type": "code",
   "execution_count": 13,
   "metadata": {},
   "outputs": [
    {
     "name": "stdout",
     "output_type": "stream",
     "text": [
      "Epoch 1/20\n",
      "500/500 [==============================] - 224s 448ms/step - loss: 0.0256 - binary_accuracy: 0.9926 - val_loss: 0.1568 - val_binary_accuracy: 0.9454\n",
      "Epoch 2/20\n",
      "500/500 [==============================] - 220s 440ms/step - loss: 0.0041 - binary_accuracy: 0.9986 - val_loss: 0.2342 - val_binary_accuracy: 0.9299\n",
      "Epoch 3/20\n",
      "500/500 [==============================] - 221s 441ms/step - loss: 0.0019 - binary_accuracy: 0.9994 - val_loss: 0.3467 - val_binary_accuracy: 0.9201\n",
      "Epoch 4/20\n",
      "500/500 [==============================] - 220s 440ms/step - loss: 0.0010 - binary_accuracy: 0.9997 - val_loss: 0.3497 - val_binary_accuracy: 0.9335\n",
      "Epoch 5/20\n",
      "500/500 [==============================] - 220s 439ms/step - loss: 6.5921e-04 - binary_accuracy: 0.9998 - val_loss: 0.5446 - val_binary_accuracy: 0.9135\n",
      "Epoch 6/20\n",
      "500/500 [==============================] - 219s 439ms/step - loss: 4.8370e-04 - binary_accuracy: 0.9999 - val_loss: 0.5808 - val_binary_accuracy: 0.9168\n",
      "Epoch 7/20\n",
      "500/500 [==============================] - 220s 441ms/step - loss: 4.2688e-04 - binary_accuracy: 0.9999 - val_loss: 0.7959 - val_binary_accuracy: 0.9029\n",
      "Epoch 8/20\n",
      "500/500 [==============================] - 219s 439ms/step - loss: 4.2129e-04 - binary_accuracy: 0.9999 - val_loss: 0.7624 - val_binary_accuracy: 0.9192\n",
      "Epoch 9/20\n",
      "500/500 [==============================] - 220s 440ms/step - loss: 3.9801e-04 - binary_accuracy: 0.9999 - val_loss: 0.9668 - val_binary_accuracy: 0.8887\n",
      "Epoch 10/20\n",
      "500/500 [==============================] - 219s 438ms/step - loss: 3.6958e-04 - binary_accuracy: 0.9999 - val_loss: 0.4289 - val_binary_accuracy: 0.9454\n",
      "Epoch 11/20\n",
      "500/500 [==============================] - 221s 441ms/step - loss: 3.8891e-04 - binary_accuracy: 0.9999 - val_loss: 0.4921 - val_binary_accuracy: 0.9376\n",
      "Epoch 12/20\n",
      "500/500 [==============================] - 221s 441ms/step - loss: 3.0529e-04 - binary_accuracy: 0.9999 - val_loss: 0.6265 - val_binary_accuracy: 0.9274\n",
      "Epoch 13/20\n",
      "500/500 [==============================] - 223s 445ms/step - loss: 2.5872e-04 - binary_accuracy: 1.0000 - val_loss: 0.6655 - val_binary_accuracy: 0.9307\n",
      "Epoch 14/20\n",
      "500/500 [==============================] - 221s 442ms/step - loss: 3.4632e-04 - binary_accuracy: 0.9999 - val_loss: 0.8321 - val_binary_accuracy: 0.9021\n",
      "Epoch 15/20\n",
      "500/500 [==============================] - 221s 441ms/step - loss: 2.9813e-04 - binary_accuracy: 0.9999 - val_loss: 0.8908 - val_binary_accuracy: 0.9160\n",
      "Epoch 16/20\n",
      "500/500 [==============================] - 221s 441ms/step - loss: 1.9213e-04 - binary_accuracy: 1.0000 - val_loss: 0.9990 - val_binary_accuracy: 0.9099\n",
      "Epoch 17/20\n",
      "500/500 [==============================] - 221s 442ms/step - loss: 1.8739e-04 - binary_accuracy: 1.0000 - val_loss: 0.9946 - val_binary_accuracy: 0.9135\n",
      "Epoch 18/20\n",
      "500/500 [==============================] - 220s 440ms/step - loss: 2.1180e-04 - binary_accuracy: 1.0000 - val_loss: 1.0712 - val_binary_accuracy: 0.9119\n",
      "Epoch 19/20\n",
      "500/500 [==============================] - 220s 441ms/step - loss: 1.5449e-04 - binary_accuracy: 1.0000 - val_loss: 1.1157 - val_binary_accuracy: 0.9013\n",
      "Epoch 20/20\n",
      "500/500 [==============================] - 220s 440ms/step - loss: 2.1522e-04 - binary_accuracy: 1.0000 - val_loss: 1.0497 - val_binary_accuracy: 0.9107\n"
     ]
    }
   ],
   "source": [
    "from keras.models import Sequential\n",
    "from keras import layers\n",
    "from keras.optimizers import RMSprop\n",
    "\n",
    "m2 = Sequential()\n",
    "m2.add(layers.GRU(32, input_shape=(None, df_model.shape[-1])))\n",
    "m2.add(layers.Dense(1, activation='sigmoid'))\n",
    "\n",
    "m2.compile(optimizer=RMSprop(), loss='binary_crossentropy', metrics=['binary_accuracy'])\n",
    "\n",
    "history = m2.fit_generator(train_gen,\n",
    "                              steps_per_epoch=500,\n",
    "                              epochs=20,\n",
    "                              validation_data=val_gen,\n",
    "                              validation_steps=val_steps)"
   ]
  },
  {
   "cell_type": "code",
   "execution_count": 14,
   "metadata": {},
   "outputs": [
    {
     "data": {
      "image/png": "[encoded data removed]",
      "text/plain": [
       "<Figure size 432x288 with 1 Axes>"
      ]
     },
     "metadata": {},
     "output_type": "display_data"
    }
   ],
   "source": [
    "loss = history.history['loss']\n",
    "val_loss = history.history['val_loss']\n",
    "\n",
    "epochs = range(len(loss))\n",
    "\n",
    "plt.figure()\n",
    "\n",
    "plt.plot(epochs, loss, 'bo', label='Training loss')\n",
    "plt.plot(epochs, val_loss, 'b', label='Validation loss')\n",
    "plt.title('Training and validation loss')\n",
    "plt.legend()\n",
    "\n",
    "plt.show()"
   ]
  },
  {
   "cell_type": "code",
   "execution_count": null,
   "metadata": {},
   "outputs": [],
   "source": []
  }
 ],
 "metadata": {
  "kernelspec": {
   "display_name": "Python 3",
   "language": "python",
   "name": "python3"
  },
  "language_info": {
   "codemirror_mode": {
    "name": "ipython",
    "version": 3
   },
   "file_extension": ".py",
   "mimetype": "text/x-python",
   "name": "python",
   "nbconvert_exporter": "python",
   "pygments_lexer": "ipython3",
   "version": "3.6.6"
  }
 },
 "nbformat": 4,
 "nbformat_minor": 2
}
